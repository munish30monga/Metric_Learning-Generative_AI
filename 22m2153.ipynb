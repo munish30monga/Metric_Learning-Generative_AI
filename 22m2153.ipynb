{
 "cells": [
  {
   "cell_type": "markdown",
   "metadata": {},
   "source": [
    "## EE 782: Advanced Topics in Machine Learning\n",
    "### **Assignment 2:** Metric Learning and Generative AI\n",
    "> **NAME:** Munish Monga\n",
    "\n",
    "> **ROLL NO:** 22M2153\n",
    "\n",
    "> [Github Repo Link](https://github.com/munish30monga/Metric_Learning-Generative_AI)"
   ]
  },
  {
   "cell_type": "markdown",
   "metadata": {},
   "source": [
    "### Table of Contents:\n",
    "- [Introduction](#introduction)\n",
    "- [Importing Libraries](#importing-libraries)\n",
    "- [Hyperparameters](#hyperparameters)\n",
    "- [References](#references)"
   ]
  },
  {
   "cell_type": "markdown",
   "metadata": {},
   "source": [
    "### Introduction <a id=\"introduction\"></a>\n",
    "**PART A: Metric Learning using Siamese Network**\n",
    "> We have to train a Siamese Network on Labeled Faces in the Wild (LFW) Dataset\n",
    "\n",
    "\n",
    "**PART B: Generative AI using GANs**\n",
    "> We have to train a generative model for generating face images, using a GAN."
   ]
  },
  {
   "cell_type": "markdown",
   "metadata": {},
   "source": [
    "### Importing Libraries <a id=\"importing-libraries\"></a>"
   ]
  },
  {
   "cell_type": "code",
   "execution_count": 10,
   "metadata": {},
   "outputs": [],
   "source": [
    "import pathlib as pl                                            # for path handling\n",
    "import glob                                                     # for path handling"
   ]
  },
  {
   "cell_type": "markdown",
   "metadata": {},
   "source": [
    "### Hyperparameters <a id=\"hyperparameters\"></a>"
   ]
  },
  {
   "cell_type": "markdown",
   "metadata": {},
   "source": [
    "## **PART A:** Metric Learning using Siamese Network <a id=\"part-a\"></a>\n",
    "### Downloading Dataset\n",
    "> <font color=\"gray\">Q1. Download labeled faces in the wild (LFW) dataset</font>\n",
    "\n",
    "LFW Dataset was downloaded and extracted into the following path: `./dataset/lfw/`"
   ]
  },
  {
   "cell_type": "markdown",
   "metadata": {},
   "source": [
    "### Exploring Dataset <a id=\"exploring-dataset\"></a>\n",
    "> <font color=\"gray\">Q2. Get the number of persons who have more than one image</font>"
   ]
  },
  {
   "cell_type": "code",
   "execution_count": 12,
   "metadata": {},
   "outputs": [],
   "source": [
    "# data_dir = pl.Path('./dataset/lfw/')     # Setting path to the data directory\n",
    "# persons_dirs = data_dir.glob(\"*\")  # Use glob to get all subdirectories in the provided path\n",
    "# persons_dict = {\n",
    "#     person_dir.name: len(list(persons_dirs.glob(\"*.jpg\")))\n",
    "#     for person_dir in persons_dirs\n",
    "# }\n",
    "# person_names = list(persons_dict.keys())\n",
    "# print(f\"Number of persons: {len(person_names)}\")\n",
    "# print(f\"Number of images: {sum(persons_dict.values())}\")\n",
    "# print(f\"First 10 persons: {person_names[:10]}\")"
   ]
  },
  {
   "cell_type": "code",
   "execution_count": null,
   "metadata": {},
   "outputs": [],
   "source": []
  }
 ],
 "metadata": {
  "kernelspec": {
   "display_name": "EE_782",
   "language": "python",
   "name": "python3"
  },
  "language_info": {
   "codemirror_mode": {
    "name": "ipython",
    "version": 3
   },
   "file_extension": ".py",
   "mimetype": "text/x-python",
   "name": "python",
   "nbconvert_exporter": "python",
   "pygments_lexer": "ipython3",
   "version": "3.11.4"
  },
  "orig_nbformat": 4
 },
 "nbformat": 4,
 "nbformat_minor": 2
}
